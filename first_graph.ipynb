{
 "cells": [
  {
   "cell_type": "markdown",
   "source": [
    "## First graph of known convergent antibodies\n",
    "- V_call: IGHV1-58\n",
    "- J_call: IGHJ3\n",
    "- junction_aa length: 18 (amino acids)\n",
    "- Chosen individuals (data files): \n",
    "    - Didn't find V_call = IGHV1-58 in the named files."
   ],
   "metadata": {}
  },
  {
   "cell_type": "code",
   "execution_count": 1,
   "source": [
    "import numpy as np\n",
    "import pandas as pd\n",
    "from Levenshtein import distance\n",
    "from scipy.spatial.distance import pdist, squareform\n",
    "import networkx as nx\n",
    "import matplotlib.pyplot as plt\n",
    "import seaborn as sns\n"
   ],
   "outputs": [],
   "metadata": {}
  },
  {
   "cell_type": "markdown",
   "source": [
    "### Data Processing"
   ],
   "metadata": {}
  },
  {
   "cell_type": "code",
   "execution_count": 5,
   "source": [
    "# --- read in --- #\n",
    "a_d11_clone_pass = pd.read_csv(\"data/IGHV3_53/A_d11__clone-pass.tsv\", sep = '\\t')\n",
    "b_d10_clone_pass = pd.read_csv(\"data/IGHV3_53/B_d10__clone-pass.tsv\", sep = '\\t')\n",
    "c_d15_clone_pass = pd.read_csv(\"data/IGHV3_53/C_d15__clone-pass.tsv\", sep = \"\\t\")\n",
    "d_d28_clone_pass = pd.read_csv(\"data/IGHV3_53/D_d28__clone-pass.tsv\", sep = \"\\t\")\n",
    "e_d44_clone_pass = pd.read_csv(\"data/IGHV3_53/E_d44__clone-pass.tsv\", sep = \"\\t\")\n",
    "f_d14_clone_pass = pd.read_csv(\"data/IGHV3_53/F_d14__clone-pass.tsv\", sep = \"\\t\")\n",
    "g_d22_clone_pass = pd.read_csv(\"data/IGHV3_53/G_d22__clone-pass.tsv\", sep = \"\\t\")\n",
    "test = pd.read_csv(\"data/IGHV3_53/Pt-2-3__clone-pass.tsv\", sep = \"\\t\")\n",
    "\n"
   ],
   "outputs": [],
   "metadata": {}
  },
  {
   "cell_type": "code",
   "execution_count": 143,
   "source": [
    "g_d22_clone_pass[\"v_call\"].unique()"
   ],
   "outputs": [
    {
     "output_type": "execute_result",
     "data": {
      "text/plain": [
       "array(['IGHV3-53*04,IGHV3-53*06', 'IGHV3-53*01,IGHV3-53*02',\n",
       "       'IGHV3-53*05', 'IGHV3-53*01,IGHV3-53*02,IGHV3-53*05',\n",
       "       'IGHV3-53*05,IGHV3-66*02', 'IGHV3-53*05,IGHV3-66*02,IGHV3-66*03',\n",
       "       'IGHV3-53*01,IGHV3-53*02,IGHV3-66*01', 'IGHV3-53*03'], dtype=object)"
      ]
     },
     "metadata": {},
     "execution_count": 143
    }
   ],
   "metadata": {}
  },
  {
   "cell_type": "code",
   "execution_count": 152,
   "source": [
    "# --- filtering --- #\n",
    "# - parameters\n",
    "target_junction_length = 54\n",
    "\n",
    "# - select columns\n",
    "a_d11_data = a_d11_clone_pass[[\"sequence_id\", \"v_call\", \"j_call\", \"junction_aa\", \"junction_length\", \"single_cell\"]] # 1741 rows\n",
    "b_d10_data = test[[\"sequence_id\", \"v_call\", \"j_call\", \"junction_aa\", \"junction_length\", \"single_cell\"]] # 558 rows\n",
    "\n",
    "# print(len(b_d10_data))\n",
    "\n",
    "# - add individual label\n",
    "a_d11_data.insert(loc = 0, column = \"individual\", value = \"a_d11\")\n",
    "b_d10_data.insert(loc = 0, column = \"individual\", value = \"b_d10\")\n",
    "\n",
    "# - filter length and single cell = False\n",
    "a_d11_data = a_d11_data.loc[(a_d11_data[\"junction_length\"] == target_junction_length) & (a_d11_data[\"single_cell\"] == False)] # 121 rows\n",
    "b_d10_data = b_d10_data.loc[(b_d10_data[\"junction_length\"] == target_junction_length) & (b_d10_data[\"single_cell\"] == False)] # 44 rows\n",
    "\n",
    "# - filter v_call, j_call (TO IMPLEMENT IF WANT)\n",
    "# will need comma separation\n",
    "\n",
    "# - drop duplicates \n",
    "a_d11_data = a_d11_data.drop_duplicates(subset=['junction_aa'])\n",
    "b_d10_data = b_d10_data.drop_duplicates(subset=['junction_aa'])\n",
    "\n",
    "# --- check data --- #\n",
    "# print(a_d11_data.shape) # 109 rows\n",
    "# print(b_d10_data.shape) # 34 rows\n",
    "\n",
    "# a_d11_data.head()\n",
    "\n",
    "# --- full dataset --- #\n",
    "full_data = pd.concat([a_d11_data, b_d10_data]) # 143 * 7\n",
    "full_data = full_data.reset_index(drop=True) # drops previous indexing \n",
    "\n",
    "# full_data.head\n",
    "print(len(full_data))"
   ],
   "outputs": [
    {
     "output_type": "stream",
     "name": "stdout",
     "text": [
      "118\n"
     ]
    }
   ],
   "metadata": {}
  },
  {
   "cell_type": "code",
   "execution_count": 148,
   "source": [
    "# ----- parameters ----- #\n",
    "indiv1 = \"a_d11\" # manual atm; can automate in the future\n",
    "indiv2 = \"b_d10\"\n",
    "indiv1_n = len(full_data[full_data[\"individual\"] == indiv1])\n",
    "indiv2_n = len(full_data[full_data[\"individual\"] == indiv2])\n",
    "\n",
    "n = len(full_data) # number of observations (ie. sequenes)\n",
    "n_indiv = len(full_data[\"individual\"].unique())\n"
   ],
   "outputs": [],
   "metadata": {}
  },
  {
   "cell_type": "markdown",
   "source": [
    "### Compute distance + adjacency matrix"
   ],
   "metadata": {}
  },
  {
   "cell_type": "code",
   "execution_count": 149,
   "source": [
    "# use full_data to access data (index = node label)\n",
    "# --- create distance matrix --- #\n",
    "# normalized hamming distance\n",
    "def hamming_distance_norm_str(str1, str2):\n",
    "    assert len(str1) == len(str2)\n",
    "    return sum(c1 != c2 for c1, c2 in zip(str1, str2)) / len(str1)\n",
    "\n",
    "junction_aa_data = pd.DataFrame(full_data[\"junction_aa\"])\n",
    "\n",
    "# compute distances\n",
    "pairwise_distances = pdist(junction_aa_data, lambda x,y: hamming_distance_norm_str(x[0], y[0])) # grab str1 from [str1]\n",
    "distance_matrix = squareform(pairwise_distances)\n",
    "# print(distance_matrix.shape) # 143 by 143\n",
    "# print(type(distance_matrix)) # numpy ndarray\n",
    "\n",
    "# --- create adjacency matrix --- #\n",
    "# threshold adjacency matrix - can loop instead\n",
    "threshold = 6.0/18.0\n",
    "\n",
    "boolean_matrix = (distance_matrix <= threshold)\n",
    "adjacency_matrix = boolean_matrix * 1 # boolean to 0/1. \n",
    "np.fill_diagonal(adjacency_matrix, 0) # no self-edges\n",
    "# print(adjacency_matrix)\n",
    "\n",
    "# average degree of a node\n",
    "print(np.sum(adjacency_matrix) / (2 * adjacency_matrix.shape[0]))\n"
   ],
   "outputs": [
    {
     "output_type": "stream",
     "name": "stdout",
     "text": [
      "0.8050847457627118\n"
     ]
    }
   ],
   "metadata": {}
  },
  {
   "cell_type": "markdown",
   "source": [
    "### Create Graph; add attributes"
   ],
   "metadata": {}
  },
  {
   "cell_type": "code",
   "execution_count": 132,
   "source": [
    "# --- create graph from adjacency matrix --- #\n",
    "G = nx.from_numpy_array(adjacency_matrix)\n",
    "\n",
    "# len(G.nodes) # 143\n",
    "# len(G.edges) # 115\n",
    "\n",
    "# --- add in attribute data --- #\n",
    "# for loop\n",
    "for i in range(n):\n",
    "    # add in attributes of individual, sequence\n",
    "    G.nodes[i][\"individual\"] = full_data.iloc[i][\"individual\"]\n",
    "    G.nodes[i][\"junction_aa\"] = full_data.iloc[i][\"junction_aa\"]\n",
    "\n",
    "# G.nodes.data()"
   ],
   "outputs": [],
   "metadata": {}
  },
  {
   "cell_type": "markdown",
   "source": [
    "### Analysis"
   ],
   "metadata": {}
  },
  {
   "cell_type": "code",
   "execution_count": 136,
   "source": [
    "# --- plot basic graph --- #\n",
    "# nx.draw(G) # just nodes in a circle; can't really see edges\n",
    "# nx.draw_networkx(G, node_size=20, width=2, with_labels=False)\n",
    "\n",
    "# --- color points by attribute? either from graph data or external node metadata --- #\n",
    "# manual colors; can find better way to do this\n",
    "colors_manual = [\"red\"] * indiv1_n + [\"blue\"] * indiv2_n\n",
    "\n",
    "# seaborn color palette; dictionary mapping\n",
    "individual_list = full_data[\"individual\"].unique()\n",
    "\n",
    "rgb_values = sns.color_palette(n_colors = n_indiv)\n",
    "\n",
    "color_map = dict(zip(individual_list, rgb_values))\n",
    "\n",
    "full_data[\"color\"] = full_data[\"individual\"].map(color_map)\n",
    "\n",
    "colors_palette = full_data[\"color\"]\n",
    "\n",
    "# print(full_data[\"color\"])\n",
    "print(color_map)\n",
    "\n",
    "# --- plot graph with customization --- #\n",
    "nx.draw_networkx(G, node_size=10, width=5, with_labels=False, node_color = colors_palette)\n",
    "\n",
    "# --- check out other graph python libraries suggested in CPSC 483 notes somewhere --- #"
   ],
   "outputs": [
    {
     "output_type": "stream",
     "name": "stdout",
     "text": [
      "{'a_d11': (0.12156862745098039, 0.4666666666666667, 0.7058823529411765), 'b_d10': (1.0, 0.4980392156862745, 0.054901960784313725)}\n"
     ]
    },
    {
     "output_type": "display_data",
     "data": {
      "image/png": "[encoded data removed]",
      "text/plain": [
       "<Figure size 640x480 with 1 Axes>"
      ]
     },
     "metadata": {}
    }
   ],
   "metadata": {}
  },
  {
   "cell_type": "code",
   "execution_count": 134,
   "source": [
    "# --- identify sequences with neighbors of both individuals --- #\n",
    "list_of_intersections = [] # contains sequences that have both individuals as neighbors\n",
    "\n",
    "for node, neighbors in G.adj.items():\n",
    "    neighbor_set = set()\n",
    "    # n_indiv = 2 # defined previously in parameter section\n",
    "\n",
    "    # loop - can compute statistics for nodes and add them as attributes\n",
    "    for neighbor, edge_attribute in neighbors.items():\n",
    "        # print(neighbor) # index (ie. 1, 2, etc.)\n",
    "        neighbor_set.add(G.nodes[neighbor][\"individual\"])\n",
    "\n",
    "    # condition for adding to set we want\n",
    "    if len(neighbor_set) / n_indiv > 0.5: # rn, requires having neighbors of both individual types\n",
    "        list_of_intersections.append(G.nodes[node][\"junction_aa\"])\n",
    "\n",
    "print(list_of_intersections)\n"
   ],
   "outputs": [
    {
     "output_type": "stream",
     "name": "stdout",
     "text": [
      "['CARGGYYYDSSGLNFDYW', 'CAREGNYYDSSGYYYGYW', 'CARGWRQRWSDDWYFDLW', 'CARGGGSSGWYHDAFDIW', 'CARDGRGRGGVHDAFDIW', 'CARVNRGSGYYYDAFDIW', 'CARPGNYGPYYYYGMDVW', 'CARVKWNQWHYYYGMDVW', 'CARFPLNVAYYYYGMDVW', 'CARGSGSLVYYYYGMDVW', 'CARGWELLGFYYYGMDVW', 'CARGDGRGGYYYYGMDVW', 'CARRILYEHNYYYGMDVW', 'CAREQWPGENYYYGMDVW', 'CARESSRGYYYYYGMDVW', 'CARGLLWFGEYYYGMDVW', 'CARVSPLGYYYYYGMDVW', 'CARVSNWDYYYYYGMDVW', 'CARYRPQAEYYYYGMDVW', 'CARVRHSSGYYFSAFDIW', 'CARDRRSSGWSNDAFDIW']\n"
     ]
    }
   ],
   "metadata": {}
  },
  {
   "cell_type": "code",
   "execution_count": 145,
   "source": [
    "for c in nx.connected_components(G):\n",
    "    if len(c) >= 2:\n",
    "        print(c)"
   ],
   "outputs": [
    {
     "output_type": "stream",
     "name": "stdout",
     "text": [
      "{0, 1, 2}\n",
      "{3, 4, 5, 6}\n",
      "{8, 9}\n",
      "{11, 12}\n",
      "{39, 15, 17, 20, 24, 26, 29}\n",
      "{129, 53, 45}\n",
      "{114, 59, 60}\n",
      "{64, 65, 66, 75, 141, 142, 63}\n",
      "{132, 135, 76, 77, 78, 79, 80, 87, 88, 91, 93, 94, 96, 97, 98, 106, 108, 113, 115, 118, 119, 120, 121}\n",
      "{84, 95, 102, 103}\n",
      "{89, 85}\n",
      "{109, 110}\n",
      "{112, 116}\n",
      "{136, 127}\n"
     ]
    }
   ],
   "metadata": {}
  },
  {
   "cell_type": "code",
   "execution_count": null,
   "source": [],
   "outputs": [],
   "metadata": {}
  },
  {
   "cell_type": "code",
   "execution_count": null,
   "source": [],
   "outputs": [],
   "metadata": {}
  }
 ],
 "metadata": {
  "orig_nbformat": 4,
  "language_info": {
   "name": "python",
   "version": "3.10.12",
   "mimetype": "text/x-python",
   "codemirror_mode": {
    "name": "ipython",
    "version": 3
   },
   "pygments_lexer": "ipython3",
   "nbconvert_exporter": "python",
   "file_extension": ".py"
  },
  "kernelspec": {
   "name": "python3",
   "display_name": "Python 3.10.12 64-bit ('sds491': conda)"
  },
  "interpreter": {
   "hash": "b2bd4249cb02e278a16cf7db7b5d6b57cc83d51d8b7488d6deb3ddef0291f44c"
  }
 },
 "nbformat": 4,
 "nbformat_minor": 2
}