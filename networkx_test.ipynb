{
 "cells": [
  {
   "cell_type": "code",
   "execution_count": 1,
   "source": [
    "import numpy as np\n",
    "import pandas as pd\n",
    "import networkx as nx"
   ],
   "outputs": [],
   "metadata": {}
  },
  {
   "cell_type": "markdown",
   "source": [
    "### Create graph and test"
   ],
   "metadata": {}
  },
  {
   "cell_type": "code",
   "execution_count": 7,
   "source": [
    "G = nx.Graph()\n",
    "G.add_nodes_from([1, 2, 3])\n",
    "\n",
    "list(G.nodes)"
   ],
   "outputs": [
    {
     "output_type": "execute_result",
     "data": {
      "text/plain": [
       "[1, 2, 3]"
      ]
     },
     "metadata": {},
     "execution_count": 7
    }
   ],
   "metadata": {}
  },
  {
   "cell_type": "code",
   "execution_count": 10,
   "source": [
    "G.add_nodes_from([(1, {\"individual\":\"a_d11\", \"sequence\":\"ABCDE\"})]) # this replaces the data\n",
    "\n",
    "# list(G.nodes)\n",
    "print(G.nodes.data())\n",
    "\n",
    "G.nodes[1][\"sequence\"] = \"NEWSEQ\" # also edits attributes\n",
    "\n",
    "print(G.nodes.data())"
   ],
   "outputs": [
    {
     "output_type": "stream",
     "name": "stdout",
     "text": [
      "[(1, {'individual': 'a_d11', 'sequence': 'ABCDE'}), (2, {}), (3, {})]\n",
      "[(1, {'individual': 'a_d11', 'sequence': 'NEWSEQ'}), (2, {}), (3, {})]\n"
     ]
    }
   ],
   "metadata": {}
  },
  {
   "cell_type": "code",
   "execution_count": 13,
   "source": [
    "# ----- create graph from adjacency matrix ----- #\n",
    "adj_matrix = pd.DataFrame([[0, 1], [1, 0]])\n",
    "G1 = nx.from_pandas_adjacency(adj_matrix)\n",
    "\n",
    "list(G1.nodes) # auto assumes integer node labels from 0; add in attributes later\n",
    "\n",
    "# print(G1.nodes.data())"
   ],
   "outputs": [
    {
     "output_type": "stream",
     "name": "stdout",
     "text": [
      "[(0, {}), (1, {})]\n"
     ]
    }
   ],
   "metadata": {}
  },
  {
   "cell_type": "code",
   "execution_count": null,
   "source": [],
   "outputs": [],
   "metadata": {}
  }
 ],
 "metadata": {
  "orig_nbformat": 4,
  "language_info": {
   "name": "python",
   "version": "3.10.12",
   "mimetype": "text/x-python",
   "codemirror_mode": {
    "name": "ipython",
    "version": 3
   },
   "pygments_lexer": "ipython3",
   "nbconvert_exporter": "python",
   "file_extension": ".py"
  },
  "kernelspec": {
   "name": "python3",
   "display_name": "Python 3.10.12 64-bit ('sds491': conda)"
  },
  "interpreter": {
   "hash": "b2bd4249cb02e278a16cf7db7b5d6b57cc83d51d8b7488d6deb3ddef0291f44c"
  }
 },
 "nbformat": 4,
 "nbformat_minor": 2
}