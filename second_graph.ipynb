{
 "cells": [
  {
   "cell_type": "code",
   "execution_count": 9,
   "source": [
    "import numpy as np\n",
    "import pandas as pd\n",
    "from Levenshtein import distance\n",
    "from scipy.spatial.distance import pdist, squareform\n",
    "import networkx as nx\n",
    "import matplotlib.pyplot as plt\n",
    "import seaborn as sns"
   ],
   "outputs": [],
   "metadata": {}
  },
  {
   "cell_type": "markdown",
   "source": [
    "## Data Processing"
   ],
   "metadata": {}
  },
  {
   "cell_type": "code",
   "execution_count": 138,
   "source": [
    "# --- get list of file names --- #\n",
    "directory = \"data/IGHV1_58_repertoires\"\n",
    "directory_contents = os.listdir(directory)\n",
    "\n",
    "# filtering function\n",
    "def filter_condition(string):\n",
    "    return \"clone-pass.tsv\" in string\n",
    "\n",
    "file_names = [file for file in directory_contents if filter_condition(file)]\n",
    "\n",
    "# print(file_names)\n"
   ],
   "outputs": [],
   "metadata": {}
  },
  {
   "cell_type": "code",
   "execution_count": 148,
   "source": [
    "# --- parameters --- #\n",
    "target_junction_length = 54 # 3 * number of amino acids\n",
    "\n",
    "# ----- read in and process data into master pd dataframe ----- #\n",
    "full_data = pd.DataFrame()\n",
    "\n",
    "for file in file_names:\n",
    "    file_data = pd.read_csv(directory + '/' + file, sep = '\\t')\n",
    "\n",
    "    # print(file_data.keys()) # prints columns\n",
    "    # - select columns\n",
    "    file_data = file_data[[\"sequence_id\", \"sample_id\", \"subject_id\", \"clone_id\", \"v_call\", \"j_call\", \"junction_aa\", \"junction_length\", \"locus\"]]\n",
    "\n",
    "\n",
    "    # # --- filter data --- #\n",
    "    # file_data = file_data.loc[(file_data[\"junction_length\"] == target_junction_length) & \n",
    "    #                           (file_data[\"locus\"] == \"IGH\")\n",
    "    #                           ]\n",
    "    # # - filter v_call, j_call? ^\n",
    "\n",
    "    # # - remove duplicates - !! doesn't remove duplicates across diff samples but same individual\n",
    "    # file_data = file_data.drop_duplicates([\"junction_aa\"]) # can count duplicates instead if we want expression level\n",
    "\n",
    "\n",
    "    # --- concatenate to full data DF\n",
    "    full_data = pd.concat([full_data, file_data])\n",
    "\n",
    "# print(full_data.shape) # (32248, 8)\n",
    "    "
   ],
   "outputs": [],
   "metadata": {}
  },
  {
   "cell_type": "code",
   "execution_count": 149,
   "source": [
    "\n",
    "\n",
    "# ----- filter data ----- #\n",
    "# - filter junction length; locus (keep heavy chains only)\n",
    "filtered_data = full_data.loc[(full_data[\"junction_length\"] == target_junction_length) & \n",
    "                              (full_data[\"locus\"] == \"IGH\")\n",
    "                              ]\n",
    "\n",
    "# - filter v_call/j_call (TO IMPLEMENT IF NEEDED)\n",
    "# string separation\n",
    "\n",
    "# - remove duplicates\n",
    "filtered_data = filtered_data.drop_duplicates([\"subject_id\",  \"junction_aa\"])\n",
    "\n",
    "# print(filtered_data.shape) # (1790, 8)\n",
    "\n",
    "# - select certain list of subjects, etc.\n",
    "# filter_list = []\n",
    "\n",
    "# reset index to 0, 1, ...\n",
    "filtered_data = filtered_data.reset_index(drop=True)\n",
    "\n",
    "filtered_data.head()"
   ],
   "outputs": [
    {
     "output_type": "execute_result",
     "data": {
      "text/html": [
       "<div>\n",
       "<style scoped>\n",
       "    .dataframe tbody tr th:only-of-type {\n",
       "        vertical-align: middle;\n",
       "    }\n",
       "\n",
       "    .dataframe tbody tr th {\n",
       "        vertical-align: top;\n",
       "    }\n",
       "\n",
       "    .dataframe thead th {\n",
       "        text-align: right;\n",
       "    }\n",
       "</style>\n",
       "<table border=\"1\" class=\"dataframe\">\n",
       "  <thead>\n",
       "    <tr style=\"text-align: right;\">\n",
       "      <th></th>\n",
       "      <th>sequence_id</th>\n",
       "      <th>sample_id</th>\n",
       "      <th>subject_id</th>\n",
       "      <th>clone_id</th>\n",
       "      <th>v_call</th>\n",
       "      <th>j_call</th>\n",
       "      <th>junction_aa</th>\n",
       "      <th>junction_length</th>\n",
       "      <th>locus</th>\n",
       "    </tr>\n",
       "  </thead>\n",
       "  <tbody>\n",
       "    <tr>\n",
       "      <th>0</th>\n",
       "      <td>5f48586f869e21b4c2be5c84</td>\n",
       "      <td>S22-rep3</td>\n",
       "      <td>S22</td>\n",
       "      <td>14068</td>\n",
       "      <td>IGHV1-58*02</td>\n",
       "      <td>IGHJ4*01,IGHJ4*02</td>\n",
       "      <td>CTTEVKWELGKAPYFDYW</td>\n",
       "      <td>54</td>\n",
       "      <td>IGH</td>\n",
       "    </tr>\n",
       "    <tr>\n",
       "      <th>1</th>\n",
       "      <td>5f48586f869e21b4c2be5c85</td>\n",
       "      <td>S22-rep3</td>\n",
       "      <td>S22</td>\n",
       "      <td>14069</td>\n",
       "      <td>IGHV1-58*02</td>\n",
       "      <td>IGHJ4*02</td>\n",
       "      <td>CARDLLGSEDTAMVRDHW</td>\n",
       "      <td>54</td>\n",
       "      <td>IGH</td>\n",
       "    </tr>\n",
       "    <tr>\n",
       "      <th>2</th>\n",
       "      <td>5f48586f869e21b4c2be5c86</td>\n",
       "      <td>S22-rep3</td>\n",
       "      <td>S22</td>\n",
       "      <td>14070</td>\n",
       "      <td>IGHV1-58*02</td>\n",
       "      <td>IGHJ4*02</td>\n",
       "      <td>CAAADYGDSRGKSSFDYW</td>\n",
       "      <td>54</td>\n",
       "      <td>IGH</td>\n",
       "    </tr>\n",
       "    <tr>\n",
       "      <th>3</th>\n",
       "      <td>5f48586f869e21b4c2be5c8b</td>\n",
       "      <td>S22-rep3</td>\n",
       "      <td>S22</td>\n",
       "      <td>14070</td>\n",
       "      <td>IGHV1-58*02</td>\n",
       "      <td>IGHJ4*01,IGHJ4*02</td>\n",
       "      <td>CAAADYGDSWGKSSFDYW</td>\n",
       "      <td>54</td>\n",
       "      <td>IGH</td>\n",
       "    </tr>\n",
       "    <tr>\n",
       "      <th>4</th>\n",
       "      <td>5f48586f869e21b4c2be5c8a</td>\n",
       "      <td>S22-rep3</td>\n",
       "      <td>S22</td>\n",
       "      <td>14071</td>\n",
       "      <td>IGHV1-58*02</td>\n",
       "      <td>IGHJ4*02</td>\n",
       "      <td>CARDAPGLEIWFGELNYW</td>\n",
       "      <td>54</td>\n",
       "      <td>IGH</td>\n",
       "    </tr>\n",
       "  </tbody>\n",
       "</table>\n",
       "</div>"
      ],
      "text/plain": [
       "                sequence_id sample_id subject_id  clone_id       v_call  \\\n",
       "0  5f48586f869e21b4c2be5c84  S22-rep3        S22     14068  IGHV1-58*02   \n",
       "1  5f48586f869e21b4c2be5c85  S22-rep3        S22     14069  IGHV1-58*02   \n",
       "2  5f48586f869e21b4c2be5c86  S22-rep3        S22     14070  IGHV1-58*02   \n",
       "3  5f48586f869e21b4c2be5c8b  S22-rep3        S22     14070  IGHV1-58*02   \n",
       "4  5f48586f869e21b4c2be5c8a  S22-rep3        S22     14071  IGHV1-58*02   \n",
       "\n",
       "              j_call         junction_aa  junction_length locus  \n",
       "0  IGHJ4*01,IGHJ4*02  CTTEVKWELGKAPYFDYW               54   IGH  \n",
       "1           IGHJ4*02  CARDLLGSEDTAMVRDHW               54   IGH  \n",
       "2           IGHJ4*02  CAAADYGDSRGKSSFDYW               54   IGH  \n",
       "3  IGHJ4*01,IGHJ4*02  CAAADYGDSWGKSSFDYW               54   IGH  \n",
       "4           IGHJ4*02  CARDAPGLEIWFGELNYW               54   IGH  "
      ]
     },
     "metadata": {},
     "execution_count": 149
    }
   ],
   "metadata": {}
  },
  {
   "cell_type": "code",
   "execution_count": 150,
   "source": [
    "# --- data parameters (for graphing) --- #\n",
    "n = filtered_data.shape[0]\n",
    "subjects_list = filtered_data[\"subject_id\"].unique() # set\n",
    "n_subjects = len(subjects_list) # 68\n"
   ],
   "outputs": [],
   "metadata": {}
  },
  {
   "cell_type": "markdown",
   "source": [
    "## Compute distance + adjacency matrix"
   ],
   "metadata": {}
  },
  {
   "cell_type": "code",
   "execution_count": 151,
   "source": [
    "# use full_data to access data (index = node label)\n",
    "# --- create distance matrix --- #\n",
    "# normalized hamming distance\n",
    "def hamming_distance_norm_str(str1, str2):\n",
    "    assert len(str1) == len(str2)\n",
    "    return sum(c1 != c2 for c1, c2 in zip(str1, str2)) / len(str1)\n",
    "\n",
    "junction_aa_data = pd.DataFrame(filtered_data[\"junction_aa\"])\n",
    "\n",
    "# compute distances\n",
    "pairwise_distances = pdist(junction_aa_data, lambda x,y: hamming_distance_norm_str(x[0], y[0])) # grab str1 from [str1]\n",
    "distance_matrix = squareform(pairwise_distances)\n",
    "# print(distance_matrix.shape) # (1790, 1790)\n",
    "# print(type(distance_matrix)) # numpy ndarray"
   ],
   "outputs": [],
   "metadata": {}
  },
  {
   "cell_type": "code",
   "execution_count": 152,
   "source": [
    "# --- create adjacency matrix --- #\n",
    "# threshold adjacency matrix - can loop instead\n",
    "threshold = 3.0/18.0\n",
    "\n",
    "boolean_matrix = (distance_matrix <= threshold)\n",
    "adjacency_matrix = boolean_matrix * 1 # boolean to 0/1. \n",
    "np.fill_diagonal(adjacency_matrix, 0) # no self-edges\n",
    "# print(adjacency_matrix)\n",
    "\n",
    "# average degree of a node\n",
    "print(np.sum(adjacency_matrix) / (2 * adjacency_matrix.shape[0]))"
   ],
   "outputs": [
    {
     "output_type": "stream",
     "name": "stdout",
     "text": [
      "1.6726256983240224\n"
     ]
    }
   ],
   "metadata": {}
  },
  {
   "cell_type": "markdown",
   "source": [
    "## Graph creation and analysis"
   ],
   "metadata": {}
  },
  {
   "cell_type": "code",
   "execution_count": 153,
   "source": [
    "# --- create graph from adjacency matrix --- #\n",
    "G = nx.from_numpy_array(adjacency_matrix)\n",
    "\n",
    "# len(G.nodes) # 1790\n",
    "# len(G.edges) # 2994\n",
    "\n",
    "# --- add in attribute data --- #\n",
    "# for loop\n",
    "for i in range(n):\n",
    "    # add in attributes of individual, sequence\n",
    "    G.nodes[i][\"subject_id\"] = filtered_data.iloc[i][\"subject_id\"]\n",
    "    G.nodes[i][\"junction_aa\"] = filtered_data.iloc[i][\"junction_aa\"]\n",
    "\n",
    "# G.nodes.data()"
   ],
   "outputs": [],
   "metadata": {}
  },
  {
   "cell_type": "code",
   "execution_count": 154,
   "source": [
    "# --- plot basic graph --- #\n",
    "# nx.draw(G) # just nodes in a circle; can't really see edges\n",
    "# nx.draw_networkx(G, node_size=20, width=2, with_labels=False)\n",
    "\n",
    "# --- color points by attribute? either from graph data or external node metadata --- #\n",
    "# seaborn color palette; dictionary mapping\n",
    "# subjects_list\n",
    "\n",
    "rgb_values = sns.color_palette(n_colors = n_subjects)\n",
    "\n",
    "color_map = dict(zip(subjects_list, rgb_values)) # !! contains repeats if too many unique subjects\n",
    "\n",
    "filtered_data[\"color\"] = filtered_data[\"subject_id\"].map(color_map)\n",
    "\n",
    "colors_palette = filtered_data[\"color\"]\n",
    "\n",
    "# print(full_data[\"color\"])\n",
    "# print(color_map) \n",
    "\n",
    "# --- plot graph with customization --- #\n",
    "# nx.draw_networkx(G, node_size=10, width=5, with_labels=False, node_color = colors_palette) # takes a long time\n",
    "\n",
    "# --- check out other graph python libraries suggested in CPSC 483 notes somewhere --- #"
   ],
   "outputs": [],
   "metadata": {}
  },
  {
   "cell_type": "code",
   "execution_count": 155,
   "source": [
    "# ----- remove isolated nodes ----- #\n",
    "isolated_nodes = list(nx.isolates(G)) # len = 1228\n",
    "nonisolated_nodes = [i for i in G.nodes if not nx.is_isolate(G, i)] # len = 562\n",
    "\n",
    "# - version 1: change graph G itself - easy implementation, bad practically\n",
    "# G.remove_nodes_from(isolated_nodes) # bad since it mutates graph G; try storing in new graph\n",
    "\n",
    "# - version 2: subgraph - easy implementation, read only(?)\n",
    "# G_connected_components = G.subgraph(nonisolated_nodes) # subgraph view (ie. view-only!)\n",
    "\n",
    "# - version 3: deepcopy of the graph - memory constraints?\n",
    "# G_connected_components = copy.deepcopy(G) # check python package\n",
    "\n",
    "# - version 3': shallow copy - node labels are not 0, 1, ...\n",
    "# https://networkx.org/documentation/stable/reference/classes/generated/networkx.Graph.copy.html\n",
    "# independent shallow copy: attributes that are containers are shared between old and new graph\n",
    "# new attributes are only in the new graph I think\n",
    "G_connected_components = G.copy()\n",
    "G_connected_components.remove_nodes_from(isolated_nodes) # 562 \n",
    "\n",
    "# - version 4: filter the DF; change the adjacency matrix accodingly; recreate graph\n",
    "connected_data = filtered_data.drop(isolated_nodes, axis=0) \n",
    "# print(connected_data.shape) # 562, 9\n",
    "\n",
    "# --- parameters --- #\n",
    "n_connected = connected_data.shape[0]\n",
    "connected_subjects_list = connected_data[\"subject_id\"].unique() # set\n",
    "n_connected_subjects = len(connected_subjects_list) # 53\n",
    "\n",
    "# --- redo color palette in case number of subjects changed --- #\n",
    "# seaborn color palette; dictionary mapping\n",
    "\n",
    "rgb_values = sns.color_palette(n_colors = n_connected_subjects)\n",
    "color_map = dict(zip(connected_subjects_list, rgb_values)) # !! contains repeats if too many unique subjects\n",
    "connected_data[\"color\"] = connected_data[\"subject_id\"].map(color_map)\n",
    "colors_palette2 = connected_data[\"color\"]\n",
    "\n",
    "# --- plot --- #\n",
    "nx.draw_networkx(G_connected_components, node_size=10, width=2, with_labels=False, node_color = colors_palette2)\n"
   ],
   "outputs": [
    {
     "output_type": "display_data",
     "data": {
      "image/png": "[encoded data removed]",
      "text/plain": [
       "<Figure size 640x480 with 1 Axes>"
      ]
     },
     "metadata": {}
    }
   ],
   "metadata": {}
  },
  {
   "cell_type": "code",
   "execution_count": null,
   "source": [
    "# ----- generalized subgraph procedure ----- #\n",
    "def remove_node_condition(graph, i):\n",
    "    return nx.is_isolate(graph, i)\n",
    "\n",
    "def keep_node_condition(graph, i):\n",
    "    return not nx.is_isolate(graph, i)\n",
    "\n",
    "# pass in graph, corresponding data, remove or keep condition (functions)\n",
    "# returns new graph and dataframe (with colors per subject)\n",
    "def create_subgraph(graph, dataframe, remove_condition = None, keep_condition = None):\n",
    "    return"
   ],
   "outputs": [],
   "metadata": {}
  },
  {
   "cell_type": "code",
   "execution_count": 58,
   "source": [
    "# --- identify sequences satisfying condition --- #\n",
    "target_num_neighbor_types = 6 # number of unique neighbor subject_id's required\n",
    "list_of_intersections = [] \n",
    "\n",
    "for node, neighbors in G.adj.items():\n",
    "    neighbor_set = set()\n",
    "    # n_indiv = 2 # defined previously in parameter section\n",
    "\n",
    "    # loop - can compute statistics for nodes and add them as attributes\n",
    "    for neighbor, edge_attribute in neighbors.items():\n",
    "        # print(neighbor) # index (ie. 1, 2, etc.)\n",
    "        neighbor_set.add(G.nodes[neighbor][\"subject_id\"])\n",
    "\n",
    "    # condition for adding to set we want\n",
    "    if len(neighbor_set) >= target_num_neighbor_types: \n",
    "        list_of_intersections.append(G.nodes[node][\"junction_aa\"])\n",
    "\n",
    "print(list_of_intersections)"
   ],
   "outputs": [
    {
     "output_type": "stream",
     "name": "stdout",
     "text": [
      "['CAAVYCSSTSCFDAFDIW', 'CAAPNCSSTSCYSAFDIW', 'CAAPYCSSTSCSDAFDIW', 'CASPYCSSTSCSDAFDIW', 'CAADSSGYYYYYYGMDVW', 'CAAPYCSSTSCSDAFDIW', 'CAAPYCSSTSCDDAFDIW', 'CAAVYCSSTSCSDAFDIW', 'CAAPYCSGGSCHDAFDIW', 'CAAPYCSSTSCYDAFDIW', 'CAAPYCSSTSCHDAFDIW', 'CAAPHCSTTSCYDAFDIW', 'CAAPYCSSTSCHDAFDIW', 'CAAPYCSSTSCYDAFDIW', 'CAAVTCSSTSCYDAFDIW', 'CASPDCSSTSCYDAFDIW']\n"
     ]
    }
   ],
   "metadata": {}
  },
  {
   "cell_type": "code",
   "execution_count": 159,
   "source": [
    "# --- connected components analysis --- #\n",
    "for c in nx.connected_components(G_connected_components): \n",
    "    # - print all >= number\n",
    "    # if len(c) >= 2:\n",
    "        # print(c)\n",
    "\n",
    "    # - print all with >= 2 subjects\n",
    "    c_subject_list = connected_data.loc[list(c)][\"subject_id\"].unique() # loc goes by row index/column names\n",
    "    # c_subject_list = filtered_data.iloc[list(c)][\"subject_id\"].unique() # iloc goes by integer location\n",
    "    if len(c_subject_list) >= 2:\n",
    "        print(c)\n",
    "\n",
    "print(G_connected_components.nodes[1536][\"junction_aa\"])\n",
    "\n"
   ],
   "outputs": [
    {
     "output_type": "stream",
     "name": "stdout",
     "text": [
      "{1536, 1537, 6, 1414, 270, 1038, 271, 1688, 1437, 543, 428, 1330, 1715, 1716, 1717, 445, 708, 581, 709, 711, 712, 1735, 842, 843, 844, 710, 1497, 1498, 1251, 998, 999, 1135, 243, 1396, 1397, 761}\n",
      "{31, 32, 33, 34, 35, 36, 37, 38, 39, 40, 41, 42, 43, 44, 45, 46, 47, 48, 49, 50, 51, 52, 53, 54, 55, 56, 57, 58, 59, 60, 61, 62, 300}\n",
      "{1410, 1160, 655, 88, 1470}\n",
      "{114, 867}\n",
      "{1025, 1538, 1539, 1039, 1050, 1051, 1052, 1053, 1054, 1055, 1056, 1057, 1058, 1595, 1596, 1597, 1598, 1599, 1600, 1601, 1602, 1603, 1094, 1095, 1096, 610, 611, 612, 1675, 1676, 1677, 1678, 1679, 1680, 1681, 157, 158, 159, 160, 161, 162, 163, 164, 165, 166, 167, 168, 169, 170, 171, 172, 173, 174, 175, 176, 177, 178, 179, 180, 181, 182, 183, 184, 185, 186, 187, 188, 189, 190, 191, 192, 193, 194, 195, 196, 197, 198, 199, 200, 201, 202, 203, 204, 205, 206, 207, 208, 1748, 1265, 1266, 1267, 1268, 1269, 1270, 1271, 1272, 1273, 1274, 1275, 1276, 1277, 1278, 765, 1280, 1281, 1282, 1283, 1284, 1285, 1286, 1287, 1288, 1289, 1290, 1291, 1292, 1293, 1294, 782, 1295, 1296, 1297, 1299, 1298, 1301, 1302, 1300, 1303, 1304, 275, 282, 1306, 1309, 1310, 1305, 1307, 1308, 1311, 1279, 1312, 1317, 1318, 1319, 1320, 1321, 1322, 1323, 1324, 1316, 308, 1398, 430, 431, 1313, 1314, 472, 1315, 1499, 475, 476, 478, 477, 480, 481, 479, 482, 483, 485, 484, 486, 487, 488, 489, 490, 491, 492, 494, 493, 496, 495, 497, 498}\n",
      "{1548, 1549, 222, 1550}\n",
      "{1556, 223}\n",
      "{260, 780}\n",
      "{264, 822}\n",
      "{1768, 281, 930, 630}\n",
      "{1616, 299}\n",
      "{1737, 331}\n",
      "{544, 1153, 1154, 1155, 1156, 1157, 1158, 1327, 1654, 1655, 349}\n",
      "{508, 359}\n",
      "{376, 1188}\n",
      "{539, 379, 380}\n",
      "{899, 1606, 811, 1485, 1008, 560, 402, 1528, 1115}\n",
      "{403, 1190}\n",
      "{1193, 404}\n",
      "{451, 964, 629}\n",
      "{458, 1181}\n",
      "{977, 470}\n",
      "{561, 690, 1433, 1134}\n",
      "{577, 838}\n",
      "{1546, 582}\n",
      "{1761, 619, 620}\n",
      "{626, 1407}\n",
      "{726, 702}\n",
      "{738, 1527, 1656, 985, 1213}\n",
      "{771, 1350}\n",
      "{975, 807}\n",
      "{1481, 810}\n",
      "{840, 1494, 839}\n",
      "{841, 1495}\n",
      "{1146, 845}\n",
      "{1001, 1250, 900, 1009}\n",
      "{1352, 948}\n",
      "{1194, 949}\n",
      "{1545, 1023}\n",
      "CAADRYGSVDYYYGMDVW\n"
     ]
    }
   ],
   "metadata": {}
  },
  {
   "cell_type": "code",
   "execution_count": 136,
   "source": [
    "# --- centrality testing --- #\n",
    "# print(nx.degree_centrality(G_connected_components))\n",
    "# print(nx.eigenvector_centrality(G_connected_components)) # failed to converge"
   ],
   "outputs": [],
   "metadata": {}
  },
  {
   "cell_type": "code",
   "execution_count": null,
   "source": [],
   "outputs": [],
   "metadata": {}
  }
 ],
 "metadata": {
  "orig_nbformat": 4,
  "language_info": {
   "name": "python",
   "version": "3.10.12",
   "mimetype": "text/x-python",
   "codemirror_mode": {
    "name": "ipython",
    "version": 3
   },
   "pygments_lexer": "ipython3",
   "nbconvert_exporter": "python",
   "file_extension": ".py"
  },
  "kernelspec": {
   "name": "python3",
   "display_name": "Python 3.10.12 64-bit ('sds491': conda)"
  },
  "interpreter": {
   "hash": "b2bd4249cb02e278a16cf7db7b5d6b57cc83d51d8b7488d6deb3ddef0291f44c"
  }
 },
 "nbformat": 4,
 "nbformat_minor": 2
}