{
 "cells": [
  {
   "cell_type": "code",
   "execution_count": 26,
   "source": [
    "import numpy as np\n",
    "import string\n",
    "import random\n",
    "from Levenshtein import distance\n",
    "from scipy.spatial.distance import pdist, squareform"
   ],
   "outputs": [],
   "metadata": {}
  },
  {
   "cell_type": "markdown",
   "source": [
    "### Generate random strings"
   ],
   "metadata": {}
  },
  {
   "cell_type": "code",
   "execution_count": 3,
   "source": [
    "# \"B\", \"Z\", \n",
    "amino_acids = [\"A\", \"R\", \"N\", \"D\", \"C\", \"E\", \"Q\", \"G\", \"H\", \"I\", \"L\", \"K\", \"M\", \"F\", \"P\", \"S\", \"T\", \"W\", \"Y\", \"V\"]\n",
    "amino_acids_np = np.array(amino_acids)\n",
    "# len(amino_acids) # = 20\n",
    "\n",
    "n_nodes = 50\n",
    "str_len = 10"
   ],
   "outputs": [],
   "metadata": {}
  },
  {
   "cell_type": "code",
   "execution_count": 9,
   "source": [
    "def charr_to_string(charr):\n",
    "    return \"\".join(charr)\n",
    "\n",
    "# charr_to_string([\"A\", \"B\", \"C\"])\n",
    "\n",
    "# to implement\n",
    "def string_to_charr(str):\n",
    "    return"
   ],
   "outputs": [
    {
     "output_type": "execute_result",
     "data": {
      "text/plain": [
       "'ABC'"
      ]
     },
     "metadata": {},
     "execution_count": 9
    }
   ],
   "metadata": {}
  },
  {
   "cell_type": "code",
   "execution_count": 4,
   "source": [
    "# --- purely random strings; high hamming distances --- #\n",
    "random_strings = np.random.choice(amino_acids_np, (n_nodes, str_len))\n",
    "# print(random_strings)"
   ],
   "outputs": [],
   "metadata": {}
  },
  {
   "cell_type": "code",
   "execution_count": 24,
   "source": [
    "# --- get smaller hamming distances; sub-alphabet --- #\n",
    "# array of character arrays\n",
    "amino_acids_subset = amino_acids_np[0:2] # uses only first 2 letters\n",
    "random_charr_subset = np.random.choice(amino_acids_subset, (n_nodes, str_len))\n",
    "\n",
    "# array of strings\n",
    "random_strings_subset = np.array([])\n",
    "for charr in random_charr_subset:\n",
    "    random_strings_subset = np.append(random_strings_subset, charr_to_string(charr))\n",
    "\n",
    "random_strings_subset = random_strings_subset.reshape(-1,1)\n",
    "\n",
    "print(random_strings_subset.shape)"
   ],
   "outputs": [
    {
     "output_type": "stream",
     "name": "stdout",
     "text": [
      "(50, 1)\n"
     ]
    }
   ],
   "metadata": {}
  },
  {
   "cell_type": "markdown",
   "source": [
    "### Hamming distance on char arrays"
   ],
   "metadata": {}
  },
  {
   "cell_type": "code",
   "execution_count": 35,
   "source": [
    "# --- Method 1: trick on charr; hamming only --- #\n",
    "# https://stackoverflow.com/questions/42752610/python-how-to-generate-the-pairwise-hamming-distance-matrix\n",
    "hamming_1 = (random_charr_subset[:, None, :] != random_charr_subset).sum(2)\n",
    "print(hamming_1)"
   ],
   "outputs": [
    {
     "output_type": "stream",
     "name": "stdout",
     "text": [
      "[[0 3 4 ... 7 6 6]\n",
      " [3 0 7 ... 6 3 5]\n",
      " [4 7 0 ... 3 8 4]\n",
      " ...\n",
      " [7 6 3 ... 0 5 3]\n",
      " [6 3 8 ... 5 0 4]\n",
      " [6 5 4 ... 3 4 0]]\n"
     ]
    }
   ],
   "metadata": {}
  },
  {
   "cell_type": "code",
   "execution_count": 44,
   "source": [
    "# --- Method 2: scipy distance --- #\n",
    "test = pdist(random_strings_subset, lambda x,y: hamming_distance_str(x[0], y[0])) # grab str1 from [str1]\n",
    "print(squareform(test))\n",
    "\n",
    "# can use a custom distance function, just need to wrap it in a lambda(?)\n",
    "\n"
   ],
   "outputs": [
    {
     "output_type": "stream",
     "name": "stdout",
     "text": [
      "[[0. 3. 4. ... 7. 6. 6.]\n",
      " [3. 0. 7. ... 6. 3. 5.]\n",
      " [4. 7. 0. ... 3. 8. 4.]\n",
      " ...\n",
      " [7. 6. 3. ... 0. 5. 3.]\n",
      " [6. 3. 8. ... 5. 0. 4.]\n",
      " [6. 5. 4. ... 3. 4. 0.]]\n"
     ]
    }
   ],
   "metadata": {}
  },
  {
   "cell_type": "code",
   "execution_count": 38,
   "source": [
    "# --- Method 3: manual implementation (charr) --- #\n",
    "\n",
    "def hamming_distance_charr(arr1, arr2):\n",
    "    assert len(arr1) == len(arr2)\n",
    "\n",
    "    hamming_dist = 0\n",
    "\n",
    "    # customizable\n",
    "    # can consider representing characters as one-hot encodings if useful. matrix multiplication? \n",
    "    for i in range(len(arr1)):\n",
    "        if arr1[i] != arr2[i]:\n",
    "            hamming_dist += 1\n",
    "\n",
    "    return hamming_dist\n",
    "\n",
    "\n",
    "hamming_matrix = np.ndarray((n_nodes, n_nodes))\n",
    "\n",
    "for i in range(n_nodes):\n",
    "    for j in range(n_nodes):\n",
    "        hamming_matrix[i][j] = hamming_distance_charr(random_charr_subset[i], random_charr_subset[j])\n",
    "\n",
    "# print(hamming_matrix)"
   ],
   "outputs": [],
   "metadata": {}
  },
  {
   "cell_type": "code",
   "execution_count": 41,
   "source": [
    "# --- Method 4: manual implementation (charr) --- #\n",
    "# https://stackoverflow.com/questions/54172831/hamming-distance-between-two-strings-in-python\n",
    "\n",
    "# basic version\n",
    "def hamming_distance_str(str1, str2):\n",
    "    return sum(c1 != c2 for c1, c2 in zip(str1, str2))\n",
    "\n",
    "# hamming_distance_str(\"hello\", \"hallo\")\n",
    "\n",
    "# customizable weights\n",
    "def hamming_distance_str_custom(str1, str2):\n",
    "    assert len(str1) == len(str2)\n",
    "\n",
    "    hamming_dist = 0\n",
    "    for i in range(len(str1)):\n",
    "        if str1[i] != str2[i]:\n",
    "            hamming_dist += 1 # customizable; matrix even\n",
    "\n",
    "    return hamming_dist"
   ],
   "outputs": [],
   "metadata": {}
  },
  {
   "cell_type": "markdown",
   "source": [
    "### Levenshtein Distance"
   ],
   "metadata": {}
  },
  {
   "cell_type": "code",
   "execution_count": 38,
   "source": [
    "# --- Method 1: recursion --- #\n",
    "\n",
    "def compute_LD(arr1, arr2):\n",
    "    # costs; customizable\n",
    "    sub_cost = 1\n",
    "    ins_cost = 1\n",
    "\n",
    "    # base case\n",
    "    if len(arr1) == 0:\n",
    "        return ins_cost * len(arr2)\n",
    "    \n",
    "    if len(arr2) == 0:\n",
    "        return ins_cost * len(arr1)\n",
    "    \n",
    "    # 3 cases: insert first element of arr1, insert first of arr2, or substitute two firsts\n",
    "    arr1_insert_cost = compute_LD(arr1[1:], arr2) + ins_cost\n",
    "    arr2_insert_cost = compute_LD(arr1, arr2[1:]) + ins_cost\n",
    "    sub_first_cost = compute_LD(arr1[1:], arr2[1:])\n",
    "    if arr1[0] != arr2[0]:\n",
    "        sub_first_cost += sub_cost\n",
    "\n",
    "    return min(arr1_insert_cost, arr2_insert_cost, sub_first_cost)\n",
    "\n",
    "# A B - D - T\n",
    "# A B C D G T\n",
    "a = [\"A\", \"B\", \"D\", \"T\"]\n",
    "b = [\"A\", \"B\", \"C\", \"D\", \"G\", \"T\"]\n",
    "compute_LD(a, b)\n"
   ],
   "outputs": [
    {
     "output_type": "execute_result",
     "data": {
      "text/plain": [
       "2"
      ]
     },
     "metadata": {},
     "execution_count": 38
    }
   ],
   "metadata": {}
  },
  {
   "cell_type": "code",
   "execution_count": 33,
   "source": [
    "# --- Method 2: Levenshtein package --- #\n",
    "a = [\"A\", \"B\", \"D\", \"T\"]\n",
    "b = [\"A\", \"B\", \"C\", \"D\", \"G\", \"T\"]\n",
    "print(distance(a,b)) # Levenshtein.distance"
   ],
   "outputs": [
    {
     "output_type": "stream",
     "name": "stdout",
     "text": [
      "2\n"
     ]
    }
   ],
   "metadata": {}
  },
  {
   "cell_type": "code",
   "execution_count": null,
   "source": [],
   "outputs": [],
   "metadata": {}
  }
 ],
 "metadata": {
  "interpreter": {
   "hash": "b2bd4249cb02e278a16cf7db7b5d6b57cc83d51d8b7488d6deb3ddef0291f44c"
  },
  "kernelspec": {
   "name": "python3",
   "display_name": "Python 3.10.12 64-bit ('sds491': conda)"
  },
  "language_info": {
   "codemirror_mode": {
    "name": "ipython",
    "version": 3
   },
   "file_extension": ".py",
   "mimetype": "text/x-python",
   "name": "python",
   "nbconvert_exporter": "python",
   "pygments_lexer": "ipython3",
   "version": "3.10.12"
  }
 },
 "nbformat": 4,
 "nbformat_minor": 2
}